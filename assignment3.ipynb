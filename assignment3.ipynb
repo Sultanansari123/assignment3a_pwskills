{
 "cells": [
  {
   "cell_type": "markdown",
   "id": "9fdb0550-0a6b-40ca-8af7-410bfb0c4cce",
   "metadata": {},
   "source": [
    "# Ans1-"
   ]
  },
  {
   "cell_type": "markdown",
   "id": "5da6ace5-fe8f-4535-b6ca-60f22470112b",
   "metadata": {},
   "source": [
    "Precision means proportion of correctly predicted positive instance among all predicted positive.\n",
    "recall means proportion of the correctly predicted positive instance among all actual positive."
   ]
  },
  {
   "cell_type": "markdown",
   "id": "95f5b956-539d-49ee-bb8e-983bbd29c517",
   "metadata": {},
   "source": [
    "# Ans2-"
   ]
  },
  {
   "cell_type": "markdown",
   "id": "35593036-fa56-4d97-a592-d97f9d9953f4",
   "metadata": {},
   "source": [
    "F1 score is the hormonic mean of the precision and recall ,it balance precision and recall providing a single metric to evaluate the model performance.\n",
    "\n",
    "f1 score=2* (precision*recall)/(precision+recall)"
   ]
  },
  {
   "cell_type": "markdown",
   "id": "2a1dd411-7e87-47e1-896b-d57d1b8300ac",
   "metadata": {},
   "source": [
    "# Ans3-"
   ]
  },
  {
   "cell_type": "markdown",
   "id": "504607b3-32b2-450c-901e-2a7d62a0baba",
   "metadata": {},
   "source": [
    "ROC (Receiver Operating Characteristic) curve graphically represents the trade-off between true positive rate (sensitivity) and false positive rate, while AUC (Area Under the Curve) quantifies the curve's overall performance, with higher AUC indicating better model performance.\n",
    "\n",
    "\n",
    "\n",
    "\n"
   ]
  },
  {
   "cell_type": "markdown",
   "id": "8af37a94-a61e-4000-add7-9f5c022c6bae",
   "metadata": {},
   "source": [
    "# Ans4-"
   ]
  },
  {
   "cell_type": "markdown",
   "id": "d9f621cb-76ee-45b3-ae76-2c3dd9e2157e",
   "metadata": {},
   "source": [
    "how do you choose the best metrics to evaluate the performance of the classification model\n",
    "\n",
    "chosse the best metrics based on the specific goal and characteristics of the problem for imbalanced classes consider precision,recall and f1 score and balance classes consider accuracy.\n"
   ]
  },
  {
   "cell_type": "markdown",
   "id": "552565dc-b62c-4a08-9ddb-8180142eec68",
   "metadata": {},
   "source": [
    "# Ans5-"
   ]
  },
  {
   "cell_type": "markdown",
   "id": "1487cc3c-6d04-4fa3-bcf9-438971cbd43e",
   "metadata": {},
   "source": [
    "In multiclass classification, logistic regression can be extended using techniques like one-vs-all (OvA) or one-vs-one (OvO) to handle multiple classes by training multiple binary classifiers.\n",
    "\n",
    "\n",
    "\n",
    "\n"
   ]
  },
  {
   "cell_type": "markdown",
   "id": "f39dbe2a-45bc-4c60-92cb-8a8181710e08",
   "metadata": {},
   "source": [
    "# Ans6-"
   ]
  },
  {
   "cell_type": "markdown",
   "id": "d48ecae9-0b35-493b-ac59-7e2c6ba7cfe6",
   "metadata": {},
   "source": [
    "Data Preparation: Collect, clean, and preprocess the dataset.\n",
    "\n",
    "Feature Engineering: Select relevant features and transform data.\n",
    "\n",
    "Model Selection: Choose a multiclass classification algorithm.\n",
    "\n",
    "Training: Train the model on the training dataset.\n",
    "\n",
    "Evaluation: Evaluate model performance on a validation set.\n",
    "\n",
    "Hyperparameter Tuning: Optimize model parameters.\n",
    "\n",
    "Testing: Assess final model on a separate test dataset.\n",
    "\n",
    "Deployment: Implement the model for real-world use.\n",
    "\n",
    "\n",
    "\n"
   ]
  },
  {
   "cell_type": "markdown",
   "id": "2d79a776-d234-4976-9beb-a7109796cbb3",
   "metadata": {},
   "source": [
    "# Ans7-"
   ]
  },
  {
   "cell_type": "markdown",
   "id": "a251953a-fc83-41c7-8f32-2d0c2db97526",
   "metadata": {},
   "source": [
    "Model deployment is the process of integrating a trained machine learning model into a production environment to make predictions on new, unseen data; it's important for applying the model to real-world scenarios and generating value."
   ]
  },
  {
   "cell_type": "markdown",
   "id": "6ab5c3c9-4921-4f75-be82-01281dfc76db",
   "metadata": {},
   "source": [
    "# Ans8-"
   ]
  },
  {
   "cell_type": "markdown",
   "id": "a571a26b-143f-43db-9efb-24b754c8ad38",
   "metadata": {},
   "source": [
    "multi cloud plateform deploy model by distributing workload across multiple cloud service providers offering flexibility ,redundency and resource optimization."
   ]
  },
  {
   "cell_type": "markdown",
   "id": "fc7b87cf-346e-40f0-bee6-41c3493523b4",
   "metadata": {},
   "source": [
    "# Ans9-"
   ]
  },
  {
   "cell_type": "markdown",
   "id": "b30b9307-0467-4268-93d3-aae5233bbdbf",
   "metadata": {},
   "source": [
    "Benefits: Enhanced flexibility, redundancy, and resource optimization. Challenges: Complex management, potential data transfer costs, and interoperability issues."
   ]
  },
  {
   "cell_type": "code",
   "execution_count": null,
   "id": "6b45c72c-f737-4292-828e-5473cb8a4d4f",
   "metadata": {},
   "outputs": [],
   "source": []
  }
 ],
 "metadata": {
  "kernelspec": {
   "display_name": "Python 3 (ipykernel)",
   "language": "python",
   "name": "python3"
  },
  "language_info": {
   "codemirror_mode": {
    "name": "ipython",
    "version": 3
   },
   "file_extension": ".py",
   "mimetype": "text/x-python",
   "name": "python",
   "nbconvert_exporter": "python",
   "pygments_lexer": "ipython3",
   "version": "3.10.8"
  }
 },
 "nbformat": 4,
 "nbformat_minor": 5
}
